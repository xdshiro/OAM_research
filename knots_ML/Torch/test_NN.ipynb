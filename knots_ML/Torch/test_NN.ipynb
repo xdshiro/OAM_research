{
 "cells": [
  {
   "cell_type": "code",
   "execution_count": 93,
   "metadata": {
    "collapsed": true
   },
   "outputs": [],
   "source": [
    "import torch\n",
    "import torch.nn as nn\n",
    "import torch.nn.functional as F\n",
    "import matplotlib.pyplot as plt"
   ]
  },
  {
   "cell_type": "code",
   "execution_count": 119,
   "outputs": [],
   "source": [
    "x = torch.tensor([[6, 2], [5, 2], [1, 3], [7, 6]]).float()\n",
    "y = torch.tensor([1, 5, 2, 5]).float()\n",
    "\n",
    "M1 = nn.Linear(2, 8, bias=False)\n",
    "M2 = nn.Linear(8, 1, bias=False)"
   ],
   "metadata": {
    "collapsed": false,
    "pycharm": {
     "name": "#%%\n"
    }
   }
  },
  {
   "cell_type": "code",
   "execution_count": 120,
   "outputs": [
    {
     "name": "stdout",
     "output_type": "stream",
     "text": [
      "tensor([[-3.2570e+00, -2.3686e+00,  3.4812e-01,  2.1613e+00, -8.0666e-01,\n",
      "         -1.3013e+00, -3.0147e-01, -2.9223e+00],\n",
      "        [-2.7671e+00, -1.9241e+00,  5.0904e-01,  1.8324e+00, -7.2935e-01,\n",
      "         -1.1826e+00, -3.9022e-01, -2.6229e+00],\n",
      "        [-9.6642e-01,  3.6302e-03,  1.8095e+00,  6.1083e-01, -5.9152e-01,\n",
      "         -1.0023e+00, -1.1622e+00, -1.9877e+00],\n",
      "        [-4.3823e+00, -2.2156e+00,  2.8145e+00,  2.8661e+00, -1.5696e+00,\n",
      "         -2.5982e+00, -1.8807e+00, -5.4727e+00]], grad_fn=<MmBackward0>)\n"
     ]
    }
   ],
   "source": [
    "M2(M1(x)).squeeze()\n",
    "# x = torch.tensor([[1, 2]])\n",
    "\n",
    "\n",
    "print(M1(x))"
   ],
   "metadata": {
    "collapsed": false,
    "pycharm": {
     "name": "#%%\n"
    }
   }
  },
  {
   "cell_type": "code",
   "execution_count": 96,
   "outputs": [],
   "source": [
    "class MyNeuralNet(nn.Module):\n",
    "    def __init__(self):\n",
    "        super().__init__()\n",
    "        self.M1 = nn.Linear(2, 8, bias=False)\n",
    "        self.M2 = nn.Linear(8, 1, bias=False)\n",
    "    def forward(self, x):\n",
    "        x = self.M1(x)\n",
    "        x = self.M2(x)\n",
    "        return x.squeeze()"
   ],
   "metadata": {
    "collapsed": false,
    "pycharm": {
     "name": "#%%\n"
    }
   }
  },
  {
   "cell_type": "markdown",
   "source": [
    "Здесь лежат все параметры, которые мы пытаемся оптимизировать (все коэффициенты). То есть в данном случае\n",
    "матрицы M1 и M2"
   ],
   "metadata": {
    "collapsed": false,
    "pycharm": {
     "name": "#%% md\n"
    }
   }
  },
  {
   "cell_type": "code",
   "execution_count": 97,
   "outputs": [
    {
     "name": "stdout",
     "output_type": "stream",
     "text": [
      "Parameter containing:\n",
      "tensor([[-0.3684, -0.6244],\n",
      "        [ 0.3790, -0.3041],\n",
      "        [ 0.5772, -0.3164],\n",
      "        [ 0.2547, -0.6282],\n",
      "        [ 0.0128,  0.5517],\n",
      "        [ 0.6910, -0.4205],\n",
      "        [-0.4729, -0.1163],\n",
      "        [ 0.3557, -0.2706]], requires_grad=True)\n",
      "Parameter containing:\n",
      "tensor([[-0.1549, -0.2956, -0.1884, -0.0374,  0.0869,  0.2926,  0.2155,  0.1351]],\n",
      "       requires_grad=True)\n"
     ]
    }
   ],
   "source": [
    "f = MyNeuralNet()\n",
    "for par in f.parameters():\n",
    "    print(par)"
   ],
   "metadata": {
    "collapsed": false,
    "pycharm": {
     "name": "#%%\n"
    }
   }
  },
  {
   "cell_type": "code",
   "execution_count": 98,
   "outputs": [
    {
     "data": {
      "text/plain": "tensor([0.1234, 0.1471, 0.3751, 0.6314], grad_fn=<SqueezeBackward0>)"
     },
     "execution_count": 98,
     "metadata": {},
     "output_type": "execute_result"
    }
   ],
   "source": [
    "y_hat = f(x)\n",
    "y_hat"
   ],
   "metadata": {
    "collapsed": false,
    "pycharm": {
     "name": "#%%\n"
    }
   }
  },
  {
   "cell_type": "markdown",
   "source": [
    "Mean Squared Error (sum_n(y-y_hat)^2 / n) (нет корня)"
   ],
   "metadata": {
    "collapsed": false,
    "pycharm": {
     "name": "#%% md\n"
    }
   }
  },
  {
   "cell_type": "code",
   "execution_count": 99,
   "outputs": [],
   "source": [
    "L = nn.MSELoss()"
   ],
   "metadata": {
    "collapsed": false,
    "pycharm": {
     "name": "#%%\n"
    }
   }
  },
  {
   "cell_type": "code",
   "execution_count": 100,
   "outputs": [],
   "source": [
    "opt = torch.optim.SGD(f.parameters(), lr=0.001)"
   ],
   "metadata": {
    "collapsed": false,
    "pycharm": {
     "name": "#%%\n"
    }
   }
  },
  {
   "cell_type": "code",
   "execution_count": 109,
   "outputs": [],
   "source": [
    "losses = []\n",
    "for _ in range(500):\n",
    "    opt.zero_grad()\n",
    "    loss_value = L(f(x), y)  # compute Loss\n",
    "    loss_value.backward()  # compute gradient\n",
    "    opt.step()  # Perform iteration using gradient above\n",
    "    losses.append(loss_value.item())"
   ],
   "metadata": {
    "collapsed": false,
    "pycharm": {
     "name": "#%%\n"
    }
   }
  },
  {
   "cell_type": "code",
   "execution_count": 111,
   "outputs": [
    {
     "name": "stdout",
     "output_type": "stream",
     "text": [
      "tensor([2.7778, 2.4994, 1.9395, 5.2710], grad_fn=<SqueezeBackward0>)\n"
     ]
    },
    {
     "data": {
      "text/plain": "<Figure size 432x288 with 1 Axes>",
      "image/png": "[encoded data removed]"
     },
     "metadata": {
      "needs_background": "light"
     },
     "output_type": "display_data"
    }
   ],
   "source": [
    "plt.plot(losses)\n",
    "plt.ylabel('Loss')\n",
    "plt.xlabel('Epochs')\n",
    "print(f(x))"
   ],
   "metadata": {
    "collapsed": false,
    "pycharm": {
     "name": "#%%\n"
    }
   }
  },
  {
   "cell_type": "code",
   "execution_count": 103,
   "outputs": [
    {
     "name": "stdout",
     "output_type": "stream",
     "text": [
      "Net(\n",
      "  (conv1): Conv2d(1, 6, kernel_size=(5, 5), stride=(1, 1))\n",
      "  (conv2): Conv2d(6, 16, kernel_size=(5, 5), stride=(1, 1))\n",
      "  (fc1): Linear(in_features=400, out_features=120, bias=True)\n",
      "  (fc2): Linear(in_features=120, out_features=84, bias=True)\n",
      "  (fc3): Linear(in_features=84, out_features=10, bias=True)\n",
      ")\n"
     ]
    }
   ],
   "source": [
    "class Net(nn.Module):\n",
    "\n",
    "    def __init__(self):\n",
    "        super(Net, self).__init__()\n",
    "        # 1 input image channel, 6 output channels, 5x5 square convolution\n",
    "        # kernel\n",
    "        self.conv1 = nn.Conv2d(1, 6, kernel_size=(5, 5))\n",
    "        self.conv2 = nn.Conv2d(6, 16, (5, 5))\n",
    "        # an affine operation: y = Wx + b\n",
    "        self.fc1 = nn.Linear(16 * 5 * 5, 120)  # 5*5 from image dimension\n",
    "        self.fc2 = nn.Linear(120, 84)\n",
    "        self.fc3 = nn.Linear(84, 10)\n",
    "\n",
    "    def forward(self, x):\n",
    "        # Max pooling over a (2, 2) window\n",
    "        x = F.max_pool2d(F.relu(self.conv1(x)), (2, 2))\n",
    "        # If the size is a square, you can specify with a single number\n",
    "        x = F.max_pool2d(F.relu(self.conv2(x)), 2)\n",
    "        x = torch.flatten(x, 1) # flatten all dimensions except the batch dimension\n",
    "        x = F.relu(self.fc1(x))\n",
    "        x = F.relu(self.fc2(x))\n",
    "        x = self.fc3(x)\n",
    "        return x\n",
    "\n",
    "\n",
    "net = Net()\n",
    "print(net)"
   ],
   "metadata": {
    "collapsed": false,
    "pycharm": {
     "name": "#%%\n"
    }
   }
  },
  {
   "cell_type": "code",
   "execution_count": 104,
   "outputs": [
    {
     "name": "stdout",
     "output_type": "stream",
     "text": [
      "tensor([[ 0.0578, -0.0099,  0.0209,  0.0628,  0.0661, -0.0753,  0.0558, -0.0915,\n",
      "          0.0028, -0.0834]], grad_fn=<AddmmBackward0>)\n"
     ]
    }
   ],
   "source": [
    "input = torch.randn(1, 1, 32, 32)\n",
    "out = net(input)\n",
    "print(out)\n",
    "\n",
    "# Zero the gradient buffers of all parameters and backprops with random gradients:\n",
    "net.zero_grad()\n",
    "out.backward(torch.randn(1, 10))"
   ],
   "metadata": {
    "collapsed": false,
    "pycharm": {
     "name": "#%%\n"
    }
   }
  },
  {
   "cell_type": "code",
   "execution_count": 104,
   "outputs": [],
   "source": [],
   "metadata": {
    "collapsed": false,
    "pycharm": {
     "name": "#%%\n"
    }
   }
  }
 ],
 "metadata": {
  "kernelspec": {
   "display_name": "Python 3",
   "language": "python",
   "name": "python3"
  },
  "language_info": {
   "codemirror_mode": {
    "name": "ipython",
    "version": 2
   },
   "file_extension": ".py",
   "mimetype": "text/x-python",
   "name": "python",
   "nbconvert_exporter": "python",
   "pygments_lexer": "ipython2",
   "version": "2.7.6"
  }
 },
 "nbformat": 4,
 "nbformat_minor": 0
}