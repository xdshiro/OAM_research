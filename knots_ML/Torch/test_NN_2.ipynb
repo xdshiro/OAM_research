{
 "cells": [
  {
   "cell_type": "code",
   "execution_count": 90,
   "metadata": {
    "collapsed": true
   },
   "outputs": [],
   "source": [
    "import numpy as np\n",
    "import torch\n",
    "import torch.nn as nn\n",
    "from torch.optim import SGD\n",
    "import matplotlib.pyplot as plt"
   ]
  },
  {
   "cell_type": "code",
   "execution_count": 91,
   "outputs": [],
   "source": [
    "class MyNeuralNet2(nn.Module):\n",
    "    def __init__(self):\n",
    "        super().__init__()\n",
    "        self.M1 = nn.Linear(2, 8, bias=False)\n",
    "        self.M2 = nn.Linear(8, 1, bias=False)\n",
    "        self.R = nn.ReLU()\n",
    "    def forward(self, x):\n",
    "        x = self.R(self.M1(x))\n",
    "        x = self.M2(x)\n",
    "        return x.squeeze()"
   ],
   "metadata": {
    "collapsed": false,
    "pycharm": {
     "name": "#%%\n"
    }
   }
  },
  {
   "cell_type": "code",
   "execution_count": 92,
   "outputs": [],
   "source": [
    "def train_model(x, y, f, n_epochs=50):\n",
    "    opt = SGD(f.parameters(), lr=0.001)\n",
    "    L = nn.MSELoss()\n",
    "\n",
    "    # Train model\n",
    "    losses = []\n",
    "    for _ in range(n_epochs):\n",
    "        opt.zero_grad()\n",
    "        loss_value = L(f(x), y)\n",
    "        loss_value.backward()\n",
    "        opt.step()\n",
    "        losses.append(loss_value.item())\n",
    "    return f, losses"
   ],
   "metadata": {
    "collapsed": false,
    "pycharm": {
     "name": "#%%\n"
    }
   }
  },
  {
   "cell_type": "code",
   "execution_count": 93,
   "outputs": [],
   "source": [
    "x = torch.tensor([[6, 2], [5, 2], [1, 3], [7, 6]]).float()\n",
    "y = torch.tensor([1, 5, 2, 5]).float()\n",
    "\n",
    "f2 = MyNeuralNet2()\n",
    "f2, losses2 = train_model(x, y, f2, n_epochs=1000)"
   ],
   "metadata": {
    "collapsed": false,
    "pycharm": {
     "name": "#%%\n"
    }
   }
  },
  {
   "cell_type": "code",
   "execution_count": 94,
   "outputs": [
    {
     "name": "stdout",
     "output_type": "stream",
     "text": [
      "tensor([1., 5., 2., 5.]) tensor([2.8102, 2.5183, 2.0074, 5.2201], grad_fn=<SqueezeBackward0>)\n"
     ]
    },
    {
     "data": {
      "text/plain": "<Figure size 432x288 with 1 Axes>",
      "image/png": "[encoded data removed]"
     },
     "metadata": {
      "needs_background": "light"
     },
     "output_type": "display_data"
    }
   ],
   "source": [
    "plt.plot(losses2)\n",
    "print(y, f2(x))"
   ],
   "metadata": {
    "collapsed": false,
    "pycharm": {
     "name": "#%%\n"
    }
   }
  },
  {
   "cell_type": "code",
   "execution_count": 95,
   "outputs": [],
   "source": [
    "class MyNeuralNet3(nn.Module):\n",
    "    def __init__(self):\n",
    "        super().__init__()\n",
    "        self.M1 = nn.Linear(2, 80)\n",
    "        self.M2 = nn.Linear(80, 1)\n",
    "        self.R = nn.ReLU()\n",
    "    def forward(self, x):\n",
    "        x = self.R(self.M1(x))\n",
    "        x = self.M2(x)\n",
    "        return x.squeeze()"
   ],
   "metadata": {
    "collapsed": false,
    "pycharm": {
     "name": "#%%\n"
    }
   }
  },
  {
   "cell_type": "code",
   "execution_count": 96,
   "outputs": [],
   "source": [
    "f3 = MyNeuralNet3()\n",
    "f3, losses3 = train_model(x, y, f3, n_epochs=5000)"
   ],
   "metadata": {
    "collapsed": false,
    "pycharm": {
     "name": "#%%\n"
    }
   }
  },
  {
   "cell_type": "code",
   "execution_count": 97,
   "outputs": [
    {
     "name": "stdout",
     "output_type": "stream",
     "text": [
      "tensor([1., 5., 2., 5.]) tensor([1.3311, 4.5605, 2.0004, 5.0333], grad_fn=<SqueezeBackward0>)\n"
     ]
    },
    {
     "data": {
      "text/plain": "<Figure size 432x288 with 1 Axes>",
      "image/png": "[encoded data removed]"
     },
     "metadata": {
      "needs_background": "light"
     },
     "output_type": "display_data"
    }
   ],
   "source": [
    "plt.plot(losses3)\n",
    "print(y, f3(x))"
   ],
   "metadata": {
    "collapsed": false,
    "pycharm": {
     "name": "#%%\n"
    }
   }
  },
  {
   "cell_type": "code",
   "execution_count": 98,
   "outputs": [],
   "source": [
    "class MyNeuralNet4(nn.Module):\n",
    "    def __init__(self):\n",
    "        super().__init__()\n",
    "        self.M1 = nn.Linear(2, 80)\n",
    "        self.M2 = nn.Linear(80, 80)\n",
    "        self.M3 = nn.Linear(80, 1)\n",
    "        self.R = nn.ReLU()\n",
    "    def forward(self, x):\n",
    "        x = self.R(self.M1(x))\n",
    "        x = self.R(self.M2(x))\n",
    "        x = self.M3(x)\n",
    "        return x.squeeze()"
   ],
   "metadata": {
    "collapsed": false,
    "pycharm": {
     "name": "#%%\n"
    }
   }
  },
  {
   "cell_type": "code",
   "execution_count": 99,
   "outputs": [],
   "source": [
    "f4 = MyNeuralNet4()\n",
    "f4, losses4 = train_model(x, y, f4, n_epochs=5000)"
   ],
   "metadata": {
    "collapsed": false,
    "pycharm": {
     "name": "#%%\n"
    }
   }
  },
  {
   "cell_type": "code",
   "execution_count": 100,
   "outputs": [
    {
     "name": "stdout",
     "output_type": "stream",
     "text": [
      "tensor([1., 5., 2., 5.]) tensor([1.0012, 4.9964, 1.9998, 4.9994], grad_fn=<SqueezeBackward0>)\n"
     ]
    },
    {
     "data": {
      "text/plain": "<Figure size 432x288 with 1 Axes>",
      "image/png": "[encoded data removed]"
     },
     "metadata": {
      "needs_background": "light"
     },
     "output_type": "display_data"
    }
   ],
   "source": [
    "plt.plot(losses4)\n",
    "print(y, f4(x))"
   ],
   "metadata": {
    "collapsed": false,
    "pycharm": {
     "name": "#%%\n"
    }
   }
  }
 ],
 "metadata": {
  "kernelspec": {
   "display_name": "Python 3",
   "language": "python",
   "name": "python3"
  },
  "language_info": {
   "codemirror_mode": {
    "name": "ipython",
    "version": 2
   },
   "file_extension": ".py",
   "mimetype": "text/x-python",
   "name": "python",
   "nbconvert_exporter": "python",
   "pygments_lexer": "ipython2",
   "version": "2.7.6"
  }
 },
 "nbformat": 4,
 "nbformat_minor": 0
}